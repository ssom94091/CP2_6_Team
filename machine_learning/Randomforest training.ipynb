{
 "cells": [
  {
   "cell_type": "code",
   "execution_count": 40,
   "metadata": {},
   "outputs": [],
   "source": [
    "import pandas as pd\n",
    "import numpy as np\n",
    "from sklearn.model_selection import train_test_split\n",
    "from sklearn.metrics import accuracy_score\n",
    "from sklearn.ensemble import RandomForestClassifier\n",
    "from sklearn.model_selection import GridSearchCV\n",
    "import warnings\n",
    "import matplotlib.pyplot as plt\n",
    "import seaborn as sns\n",
    "warnings.filterwarnings('ignore')"
   ]
  },
  {
   "cell_type": "code",
   "execution_count": 41,
   "metadata": {},
   "outputs": [
    {
     "data": {
      "text/html": [
       "<div>\n",
       "<style scoped>\n",
       "    .dataframe tbody tr th:only-of-type {\n",
       "        vertical-align: middle;\n",
       "    }\n",
       "\n",
       "    .dataframe tbody tr th {\n",
       "        vertical-align: top;\n",
       "    }\n",
       "\n",
       "    .dataframe thead th {\n",
       "        text-align: right;\n",
       "    }\n",
       "</style>\n",
       "<table border=\"1\" class=\"dataframe\">\n",
       "  <thead>\n",
       "    <tr style=\"text-align: right;\">\n",
       "      <th></th>\n",
       "      <th>Unnamed: 0</th>\n",
       "      <th>Win_team</th>\n",
       "      <th>Team_1_pitcher_WHIP</th>\n",
       "      <th>Team_1_pitcher_piAn</th>\n",
       "      <th>Team_1_pitcher_piHom</th>\n",
       "      <th>Team_1_pitcher_sam</th>\n",
       "      <th>Team_1_pitcher_ball</th>\n",
       "      <th>Team_1_pitcher_ja</th>\n",
       "      <th>Team_2_pitcher_WHIP</th>\n",
       "      <th>Team_2_pitcher_piAn</th>\n",
       "      <th>...</th>\n",
       "      <th>Team_1_hitter_chul</th>\n",
       "      <th>Team_1_hitter_do</th>\n",
       "      <th>Team_2_hitter_hit</th>\n",
       "      <th>Team_2_hitter_homrun</th>\n",
       "      <th>Team_2_hitter_sam</th>\n",
       "      <th>Team_2_hitter_ball</th>\n",
       "      <th>Team_2_hitter_deg</th>\n",
       "      <th>Team_2_hitter_ta</th>\n",
       "      <th>Team_2_hitter_chul</th>\n",
       "      <th>Team_2_hitter_do</th>\n",
       "    </tr>\n",
       "  </thead>\n",
       "  <tbody>\n",
       "    <tr>\n",
       "      <th>0</th>\n",
       "      <td>0</td>\n",
       "      <td>1</td>\n",
       "      <td>1.17</td>\n",
       "      <td>0.234273</td>\n",
       "      <td>0.026030</td>\n",
       "      <td>0.607143</td>\n",
       "      <td>0.205357</td>\n",
       "      <td>4.178571</td>\n",
       "      <td>1.40</td>\n",
       "      <td>0.223785</td>\n",
       "      <td>...</td>\n",
       "      <td>0.261251</td>\n",
       "      <td>0.425926</td>\n",
       "      <td>0.297333</td>\n",
       "      <td>0.038541</td>\n",
       "      <td>0.184575</td>\n",
       "      <td>0.019147</td>\n",
       "      <td>0.153753</td>\n",
       "      <td>0.168974</td>\n",
       "      <td>0.308273</td>\n",
       "      <td>0.682200</td>\n",
       "    </tr>\n",
       "    <tr>\n",
       "      <th>1</th>\n",
       "      <td>1</td>\n",
       "      <td>0</td>\n",
       "      <td>1.23</td>\n",
       "      <td>0.245774</td>\n",
       "      <td>0.014304</td>\n",
       "      <td>0.826580</td>\n",
       "      <td>0.205294</td>\n",
       "      <td>3.889789</td>\n",
       "      <td>1.32</td>\n",
       "      <td>0.236887</td>\n",
       "      <td>...</td>\n",
       "      <td>0.288868</td>\n",
       "      <td>0.431263</td>\n",
       "      <td>0.283333</td>\n",
       "      <td>0.028122</td>\n",
       "      <td>0.208332</td>\n",
       "      <td>0.009366</td>\n",
       "      <td>0.140507</td>\n",
       "      <td>0.148764</td>\n",
       "      <td>0.288695</td>\n",
       "      <td>0.316402</td>\n",
       "    </tr>\n",
       "    <tr>\n",
       "      <th>2</th>\n",
       "      <td>2</td>\n",
       "      <td>0</td>\n",
       "      <td>1.58</td>\n",
       "      <td>0.269179</td>\n",
       "      <td>0.024226</td>\n",
       "      <td>0.600000</td>\n",
       "      <td>0.363636</td>\n",
       "      <td>4.690909</td>\n",
       "      <td>1.31</td>\n",
       "      <td>0.250307</td>\n",
       "      <td>...</td>\n",
       "      <td>0.244749</td>\n",
       "      <td>0.485862</td>\n",
       "      <td>0.258444</td>\n",
       "      <td>0.038210</td>\n",
       "      <td>0.203828</td>\n",
       "      <td>0.022838</td>\n",
       "      <td>0.147275</td>\n",
       "      <td>0.125598</td>\n",
       "      <td>0.271322</td>\n",
       "      <td>0.338624</td>\n",
       "    </tr>\n",
       "    <tr>\n",
       "      <th>3</th>\n",
       "      <td>3</td>\n",
       "      <td>0</td>\n",
       "      <td>1.32</td>\n",
       "      <td>0.258782</td>\n",
       "      <td>0.024590</td>\n",
       "      <td>0.740557</td>\n",
       "      <td>0.223658</td>\n",
       "      <td>3.489066</td>\n",
       "      <td>1.69</td>\n",
       "      <td>0.281099</td>\n",
       "      <td>...</td>\n",
       "      <td>0.294911</td>\n",
       "      <td>0.348744</td>\n",
       "      <td>0.283111</td>\n",
       "      <td>0.028662</td>\n",
       "      <td>0.173910</td>\n",
       "      <td>0.014732</td>\n",
       "      <td>0.143559</td>\n",
       "      <td>0.140787</td>\n",
       "      <td>0.290519</td>\n",
       "      <td>0.725853</td>\n",
       "    </tr>\n",
       "    <tr>\n",
       "      <th>4</th>\n",
       "      <td>4</td>\n",
       "      <td>1</td>\n",
       "      <td>1.30</td>\n",
       "      <td>0.249373</td>\n",
       "      <td>0.023810</td>\n",
       "      <td>0.833779</td>\n",
       "      <td>0.235168</td>\n",
       "      <td>3.800107</td>\n",
       "      <td>1.29</td>\n",
       "      <td>0.234310</td>\n",
       "      <td>...</td>\n",
       "      <td>0.305814</td>\n",
       "      <td>0.472489</td>\n",
       "      <td>0.287889</td>\n",
       "      <td>0.034753</td>\n",
       "      <td>0.208439</td>\n",
       "      <td>0.031419</td>\n",
       "      <td>0.147032</td>\n",
       "      <td>0.157054</td>\n",
       "      <td>0.305711</td>\n",
       "      <td>0.650661</td>\n",
       "    </tr>\n",
       "  </tbody>\n",
       "</table>\n",
       "<p>5 rows × 30 columns</p>\n",
       "</div>"
      ],
      "text/plain": [
       "   Unnamed: 0  Win_team  Team_1_pitcher_WHIP  Team_1_pitcher_piAn  \\\n",
       "0           0         1                 1.17             0.234273   \n",
       "1           1         0                 1.23             0.245774   \n",
       "2           2         0                 1.58             0.269179   \n",
       "3           3         0                 1.32             0.258782   \n",
       "4           4         1                 1.30             0.249373   \n",
       "\n",
       "   Team_1_pitcher_piHom  Team_1_pitcher_sam  Team_1_pitcher_ball  \\\n",
       "0              0.026030            0.607143             0.205357   \n",
       "1              0.014304            0.826580             0.205294   \n",
       "2              0.024226            0.600000             0.363636   \n",
       "3              0.024590            0.740557             0.223658   \n",
       "4              0.023810            0.833779             0.235168   \n",
       "\n",
       "   Team_1_pitcher_ja  Team_2_pitcher_WHIP  Team_2_pitcher_piAn  \\\n",
       "0           4.178571                 1.40             0.223785   \n",
       "1           3.889789                 1.32             0.236887   \n",
       "2           4.690909                 1.31             0.250307   \n",
       "3           3.489066                 1.69             0.281099   \n",
       "4           3.800107                 1.29             0.234310   \n",
       "\n",
       "         ...         Team_1_hitter_chul  Team_1_hitter_do  Team_2_hitter_hit  \\\n",
       "0        ...                   0.261251          0.425926           0.297333   \n",
       "1        ...                   0.288868          0.431263           0.283333   \n",
       "2        ...                   0.244749          0.485862           0.258444   \n",
       "3        ...                   0.294911          0.348744           0.283111   \n",
       "4        ...                   0.305814          0.472489           0.287889   \n",
       "\n",
       "   Team_2_hitter_homrun  Team_2_hitter_sam  Team_2_hitter_ball  \\\n",
       "0              0.038541           0.184575            0.019147   \n",
       "1              0.028122           0.208332            0.009366   \n",
       "2              0.038210           0.203828            0.022838   \n",
       "3              0.028662           0.173910            0.014732   \n",
       "4              0.034753           0.208439            0.031419   \n",
       "\n",
       "   Team_2_hitter_deg  Team_2_hitter_ta  Team_2_hitter_chul  Team_2_hitter_do  \n",
       "0           0.153753          0.168974            0.308273          0.682200  \n",
       "1           0.140507          0.148764            0.288695          0.316402  \n",
       "2           0.147275          0.125598            0.271322          0.338624  \n",
       "3           0.143559          0.140787            0.290519          0.725853  \n",
       "4           0.147032          0.157054            0.305711          0.650661  \n",
       "\n",
       "[5 rows x 30 columns]"
      ]
     },
     "execution_count": 41,
     "metadata": {},
     "output_type": "execute_result"
    }
   ],
   "source": [
    "csv_data = pd.read_csv('training_data_all.csv')\n",
    "csv_data.head(5)"
   ]
  },
  {
   "cell_type": "code",
   "execution_count": 42,
   "metadata": {},
   "outputs": [
    {
     "name": "stdout",
     "output_type": "stream",
     "text": [
      "Unnamed: 0\n"
     ]
    }
   ],
   "source": [
    "drop_column = list(csv_data.columns)[0]\n",
    "print(drop_column)\n",
    "\n",
    "csv_data.drop(drop_column, axis=1, inplace=True)"
   ]
  },
  {
   "cell_type": "code",
   "execution_count": 43,
   "metadata": {},
   "outputs": [
    {
     "name": "stdout",
     "output_type": "stream",
     "text": [
      "Win_team                  int64\n",
      "Team_1_pitcher_WHIP     float64\n",
      "Team_1_pitcher_piAn     float64\n",
      "Team_1_pitcher_piHom    float64\n",
      "Team_1_pitcher_sam      float64\n",
      "Team_1_pitcher_ball     float64\n",
      "Team_1_pitcher_ja       float64\n",
      "Team_2_pitcher_WHIP     float64\n",
      "Team_2_pitcher_piAn     float64\n",
      "Team_2_pitcher_piHom    float64\n",
      "Team_2_pitcher_sam      float64\n",
      "Team_2_pitcher_ball     float64\n",
      "Team_2_pitcher_ja       float64\n",
      "Team_1_hitter_hit       float64\n",
      "Team_1_hitter_homrun    float64\n",
      "Team_1_hitter_sam       float64\n",
      "Team_1_hitter_ball      float64\n",
      "Team_1_hitter_deg       float64\n",
      "Team_1_hitter_ta        float64\n",
      "Team_1_hitter_chul      float64\n",
      "Team_1_hitter_do        float64\n",
      "Team_2_hitter_hit       float64\n",
      "Team_2_hitter_homrun    float64\n",
      "Team_2_hitter_sam       float64\n",
      "Team_2_hitter_ball      float64\n",
      "Team_2_hitter_deg       float64\n",
      "Team_2_hitter_ta        float64\n",
      "Team_2_hitter_chul      float64\n",
      "Team_2_hitter_do        float64\n",
      "dtype: object\n"
     ]
    }
   ],
   "source": [
    "print(csv_data.dtypes)"
   ]
  },
  {
   "cell_type": "code",
   "execution_count": 44,
   "metadata": {},
   "outputs": [
    {
     "name": "stdout",
     "output_type": "stream",
     "text": [
      "Win_team                  1.000000\n",
      "Team_1_pitcher_WHIP       5.000000\n",
      "Team_1_pitcher_piAn       0.470588\n",
      "Team_1_pitcher_piHom      0.153846\n",
      "Team_1_pitcher_sam        1.363636\n",
      "Team_1_pitcher_ball       2.619048\n",
      "Team_1_pitcher_ja        31.500000\n",
      "Team_2_pitcher_WHIP      18.000000\n",
      "Team_2_pitcher_piAn       0.571429\n",
      "Team_2_pitcher_piHom      0.142857\n",
      "Team_2_pitcher_sam       10.000000\n",
      "Team_2_pitcher_ball      30.000000\n",
      "Team_2_pitcher_ja       270.000000\n",
      "Team_1_hitter_hit         0.323556\n",
      "Team_1_hitter_homrun      0.053775\n",
      "Team_1_hitter_sam         0.295126\n",
      "Team_1_hitter_ball        0.038710\n",
      "Team_1_hitter_deg              inf\n",
      "Team_1_hitter_ta          0.196406\n",
      "Team_1_hitter_chul        0.334362\n",
      "Team_1_hitter_do          0.883333\n",
      "Team_2_hitter_hit         0.327556\n",
      "Team_2_hitter_homrun      0.058522\n",
      "Team_2_hitter_sam         0.298296\n",
      "Team_2_hitter_ball        0.032450\n",
      "Team_2_hitter_deg              inf\n",
      "Team_2_hitter_ta          0.194789\n",
      "Team_2_hitter_chul        0.338154\n",
      "Team_2_hitter_do          0.888624\n",
      "dtype: float64\n"
     ]
    }
   ],
   "source": [
    "print(csv_data.max())"
   ]
  },
  {
   "cell_type": "code",
   "execution_count": 45,
   "metadata": {},
   "outputs": [],
   "source": [
    "# inf 를 NaN 값으로 바꾼 후 NaN값을 평균값으로 치환하는 방식.\n",
    "# 바로 평균값 mean을 사용하는 경우 inf를 포함하여 평균값을 계산하기 때문에\n",
    "csv_data['Team_1_hitter_deg'].replace(np.inf, np.nan, inplace=True)\n",
    "csv_data['Team_2_hitter_deg'].replace(np.inf, np.nan, inplace=True)\n",
    "\n",
    "csv_data['Team_1_hitter_deg'].replace(np.nan, csv_data['Team_1_hitter_deg'].mean(), inplace=True)\n",
    "csv_data['Team_2_hitter_deg'].replace(np.nan, csv_data['Team_2_hitter_deg'].mean(), inplace=True)"
   ]
  },
  {
   "cell_type": "code",
   "execution_count": 46,
   "metadata": {},
   "outputs": [
    {
     "name": "stdout",
     "output_type": "stream",
     "text": [
      "Win_team                  1.000000\n",
      "Team_1_pitcher_WHIP       5.000000\n",
      "Team_1_pitcher_piAn       0.470588\n",
      "Team_1_pitcher_piHom      0.153846\n",
      "Team_1_pitcher_sam        1.363636\n",
      "Team_1_pitcher_ball       2.619048\n",
      "Team_1_pitcher_ja        31.500000\n",
      "Team_2_pitcher_WHIP      18.000000\n",
      "Team_2_pitcher_piAn       0.571429\n",
      "Team_2_pitcher_piHom      0.142857\n",
      "Team_2_pitcher_sam       10.000000\n",
      "Team_2_pitcher_ball      30.000000\n",
      "Team_2_pitcher_ja       270.000000\n",
      "Team_1_hitter_hit         0.323556\n",
      "Team_1_hitter_homrun      0.053775\n",
      "Team_1_hitter_sam         0.295126\n",
      "Team_1_hitter_ball        0.038710\n",
      "Team_1_hitter_deg         0.258379\n",
      "Team_1_hitter_ta          0.196406\n",
      "Team_1_hitter_chul        0.334362\n",
      "Team_1_hitter_do          0.883333\n",
      "Team_2_hitter_hit         0.327556\n",
      "Team_2_hitter_homrun      0.058522\n",
      "Team_2_hitter_sam         0.298296\n",
      "Team_2_hitter_ball        0.032450\n",
      "Team_2_hitter_deg         0.216687\n",
      "Team_2_hitter_ta          0.194789\n",
      "Team_2_hitter_chul        0.338154\n",
      "Team_2_hitter_do          0.888624\n",
      "dtype: float64\n"
     ]
    }
   ],
   "source": [
    "print(csv_data.max())"
   ]
  },
  {
   "cell_type": "code",
   "execution_count": 47,
   "metadata": {},
   "outputs": [
    {
     "name": "stdout",
     "output_type": "stream",
     "text": [
      "   Team_1_pitcher_WHIP  Team_1_pitcher_piAn  Team_1_pitcher_piHom  \\\n",
      "0                 1.17             0.234273              0.026030   \n",
      "1                 1.23             0.245774              0.014304   \n",
      "2                 1.58             0.269179              0.024226   \n",
      "3                 1.32             0.258782              0.024590   \n",
      "4                 1.30             0.249373              0.023810   \n",
      "\n",
      "   Team_1_pitcher_sam  Team_1_pitcher_ball  Team_1_pitcher_ja  \\\n",
      "0            0.607143             0.205357           4.178571   \n",
      "1            0.826580             0.205294           3.889789   \n",
      "2            0.600000             0.363636           4.690909   \n",
      "3            0.740557             0.223658           3.489066   \n",
      "4            0.833779             0.235168           3.800107   \n",
      "\n",
      "   Team_2_pitcher_WHIP  Team_2_pitcher_piAn  Team_2_pitcher_piHom  \\\n",
      "0                 1.40             0.223785              0.025575   \n",
      "1                 1.32             0.236887              0.021997   \n",
      "2                 1.31             0.250307              0.019632   \n",
      "3                 1.69             0.281099              0.029079   \n",
      "4                 1.29             0.234310              0.014644   \n",
      "\n",
      "   Team_2_pitcher_sam        ...         Team_1_hitter_chul  Team_1_hitter_do  \\\n",
      "0            0.898438        ...                   0.261251          0.425926   \n",
      "1            1.006517        ...                   0.288868          0.431263   \n",
      "2            0.994737        ...                   0.244749          0.485862   \n",
      "3            0.649254        ...                   0.294911          0.348744   \n",
      "4            0.766488        ...                   0.305814          0.472489   \n",
      "\n",
      "   Team_2_hitter_hit  Team_2_hitter_homrun  Team_2_hitter_sam  \\\n",
      "0           0.297333              0.038541           0.184575   \n",
      "1           0.283333              0.028122           0.208332   \n",
      "2           0.258444              0.038210           0.203828   \n",
      "3           0.283111              0.028662           0.173910   \n",
      "4           0.287889              0.034753           0.208439   \n",
      "\n",
      "   Team_2_hitter_ball  Team_2_hitter_deg  Team_2_hitter_ta  \\\n",
      "0            0.019147           0.153753          0.168974   \n",
      "1            0.009366           0.140507          0.148764   \n",
      "2            0.022838           0.147275          0.125598   \n",
      "3            0.014732           0.143559          0.140787   \n",
      "4            0.031419           0.147032          0.157054   \n",
      "\n",
      "   Team_2_hitter_chul  Team_2_hitter_do  \n",
      "0            0.308273          0.682200  \n",
      "1            0.288695          0.316402  \n",
      "2            0.271322          0.338624  \n",
      "3            0.290519          0.725853  \n",
      "4            0.305711          0.650661  \n",
      "\n",
      "[5 rows x 28 columns]\n",
      "0    1\n",
      "1    0\n",
      "2    0\n",
      "3    0\n",
      "4    1\n",
      "Name: Win_team, dtype: int64\n"
     ]
    }
   ],
   "source": [
    "train_data = csv_data.drop('Win_team', axis=1)\n",
    "target_data = csv_data['Win_team']\n",
    "\n",
    "print(train_data.head(5))\n",
    "print(target_data.head(5))"
   ]
  },
  {
   "cell_type": "code",
   "execution_count": 48,
   "metadata": {},
   "outputs": [],
   "source": [
    "X_train, X_test, y_train, y_test = train_test_split(train_data, target_data, \n",
    "                                                    test_size=0.25 , random_state= 156)"
   ]
  },
  {
   "cell_type": "code",
   "execution_count": 50,
   "metadata": {},
   "outputs": [
    {
     "name": "stdout",
     "output_type": "stream",
     "text": [
      "랜덤 포레스트 정확도: 0.5873\n"
     ]
    }
   ],
   "source": [
    "rf_clf = RandomForestClassifier(random_state=0)\n",
    "rf_clf.fit(X_train , y_train)\n",
    "pred = rf_clf.predict(X_test)\n",
    "accuracy = accuracy_score(y_test , pred)\n",
    "print('랜덤 포레스트 정확도: {0:.4f}'.format(accuracy))"
   ]
  },
  {
   "cell_type": "code",
   "execution_count": 51,
   "metadata": {},
   "outputs": [],
   "source": [
    "# 그림이 바로 확인할 수 있게 함\n",
    "%matplotlib inline"
   ]
  },
  {
   "cell_type": "code",
   "execution_count": 52,
   "metadata": {},
   "outputs": [
    {
     "data": {
      "image/png": "[encoded data removed]",
      "text/plain": [
       "<Figure size 576x432 with 1 Axes>"
      ]
     },
     "metadata": {
      "needs_background": "light"
     },
     "output_type": "display_data"
    }
   ],
   "source": [
    "ftr_importances_values = rf_clf.feature_importances_\n",
    "ftr_importances = pd.Series(ftr_importances_values, index=X_train.columns)\n",
    "\n",
    "plt.figure(figsize=(8, 6))\n",
    "plt.title('Feature importances')\n",
    "sns.barplot(x=ftr_importances, y=ftr_importances.index)\n",
    "plt.show()"
   ]
  },
  {
   "cell_type": "code",
   "execution_count": null,
   "metadata": {},
   "outputs": [],
   "source": []
  }
 ],
 "metadata": {
  "kernelspec": {
   "display_name": "Python 3",
   "language": "python",
   "name": "python3"
  },
  "language_info": {
   "codemirror_mode": {
    "name": "ipython",
    "version": 3
   },
   "file_extension": ".py",
   "mimetype": "text/x-python",
   "name": "python",
   "nbconvert_exporter": "python",
   "pygments_lexer": "ipython3",
   "version": "3.7.0"
  }
 },
 "nbformat": 4,
 "nbformat_minor": 2
}
